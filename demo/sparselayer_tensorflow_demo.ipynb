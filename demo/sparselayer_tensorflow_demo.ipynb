{
 "cells": [
  {
   "cell_type": "code",
   "execution_count": null,
   "metadata": {
    "colab": {
     "base_uri": "https://localhost:8080/"
    },
    "id": "TmpujO80SONl",
    "outputId": "abf9954f-b6ac-4a91-aa20-f9f653ea3d86"
   },
   "outputs": [],
   "source": [
    "!pip install sparselayer-tensorflow"
   ]
  },
  {
   "cell_type": "code",
   "execution_count": null,
   "metadata": {
    "id": "fzbCAp4oj8JY"
   },
   "outputs": [],
   "source": [
    "import numpy as np\n",
    "import tensorflow as tf\n",
    "from tensorflow.keras.layers import Input, ReLU, BatchNormalization, Flatten, MaxPool2D\n",
    "\n",
    "from sparselayer_tensorflow import SparseLayerConv2D, SparseLayerDense"
   ]
  },
  {
   "cell_type": "markdown",
   "metadata": {
    "id": "0mcQOeIk8fRs"
   },
   "source": [
    "## Test SparseDense and SparseConv2D"
   ]
  },
  {
   "cell_type": "code",
   "execution_count": null,
   "metadata": {
    "colab": {
     "base_uri": "https://localhost:8080/"
    },
    "id": "kDadbVKEmL9Q",
    "outputId": "329e0532-6521-49b1-fb28-be3582b6d9c8"
   },
   "outputs": [],
   "source": [
    "# Load MNIST dataset as NumPy arrays\n",
    "(x_train, y_train), (x_test, y_test) = tf.keras.datasets.mnist.load_data()\n",
    "\n",
    "# Preprocess the data\n",
    "x_train = x_train.reshape(-1, 28, 28, 1).astype('float32') / 255\n",
    "x_test = x_test.reshape(-1, 28, 28, 1).astype('float32') / 255"
   ]
  },
  {
   "cell_type": "code",
   "execution_count": null,
   "metadata": {
    "id": "UtkdmrgGq-WV"
   },
   "outputs": [],
   "source": [
    "X = tf.keras.layers.Input(shape=(28, 28, 1))\n",
    "x = SparseLayerConv2D(32, 0.5, (3,3), (1,1))(X)\n",
    "x = BatchNormalization()(x)\n",
    "x = ReLU()(x)\n",
    "x = MaxPool2D((2,2))(x)\n",
    "\n",
    "x = SparseLayerConv2D(64, 0.3, (3,3), (1,1))(x)\n",
    "x = BatchNormalization()(x)\n",
    "x = ReLU()(x)\n",
    "x = MaxPool2D((2,2))(x)\n",
    "\n",
    "x = Flatten()(x)\n",
    "y = SparseLayerDense(units=10, density=0.2, activation=tf.nn.softmax)(x)\n",
    "\n",
    "model = tf.keras.models.Model(X, y)"
   ]
  },
  {
   "cell_type": "code",
   "execution_count": null,
   "metadata": {
    "colab": {
     "base_uri": "https://localhost:8080/"
    },
    "id": "xmfr_QWlrr0g",
    "outputId": "637a59b4-639f-40e7-adf5-7a39f88bb01c"
   },
   "outputs": [],
   "source": [
    "model.summary()"
   ]
  },
  {
   "cell_type": "code",
   "execution_count": null,
   "metadata": {
    "colab": {
     "base_uri": "https://localhost:8080/"
    },
    "id": "n0Knle7hr8kg",
    "outputId": "d88c936a-40ce-46e7-8be5-892bc0d58b07"
   },
   "outputs": [],
   "source": [
    "# Hyperparameters\n",
    "batch_size=256\n",
    "epochs=30\n",
    "\n",
    "\n",
    "# Compile the model\n",
    "model.compile(\n",
    "    optimizer=tf.keras.optimizers.Adam(0.0001),  # Utilize optimizer\n",
    "    loss=tf.keras.losses.SparseCategoricalCrossentropy(),\n",
    "    metrics=['accuracy'])\n",
    "\n",
    "# Train the network\n",
    "history = model.fit(\n",
    "    x_train[:10000],\n",
    "    y_train[:10000],\n",
    "    batch_size=batch_size,\n",
    "    validation_split=0.1,\n",
    "    epochs=epochs)"
   ]
  },
  {
   "cell_type": "code",
   "execution_count": null,
   "metadata": {
    "colab": {
     "base_uri": "https://localhost:8080/"
    },
    "id": "Uz5K0NrzscOl",
    "outputId": "33d27a8e-a256-4105-a2ef-ba54e76fd2f8"
   },
   "outputs": [],
   "source": [
    "# Evaluate the network\n",
    "print('Evaluate on test data:')\n",
    "results = model.evaluate(x_test, y_test, batch_size=256, verbose = 2)\n",
    "print('Test loss = {0}, Test acc: {1}'.format(results[0], results[1]))"
   ]
  }
 ],
 "metadata": {
  "accelerator": "GPU",
  "colab": {
   "collapsed_sections": [],
   "name": "DropConnect-Tensorflow.ipynb",
   "provenance": []
  },
  "kernelspec": {
   "display_name": "Python 3",
   "language": "python",
   "name": "python3"
  },
  "language_info": {
   "codemirror_mode": {
    "name": "ipython",
    "version": 3
   },
   "file_extension": ".py",
   "mimetype": "text/x-python",
   "name": "python",
   "nbconvert_exporter": "python",
   "pygments_lexer": "ipython3",
   "version": "3.8.8"
  }
 },
 "nbformat": 4,
 "nbformat_minor": 1
}
